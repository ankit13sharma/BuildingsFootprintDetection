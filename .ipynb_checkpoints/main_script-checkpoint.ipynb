{
 "cells": [
  {
   "cell_type": "markdown",
   "metadata": {},
   "source": [
    "#                                      Buildings Footprints Detection"
   ]
  },
  {
   "cell_type": "code",
   "execution_count": null,
   "metadata": {},
   "outputs": [],
   "source": [
    "from sklearn.model_selection import train_test_split\n",
    "import utils\n",
    "import train\n",
    "import predict\n",
    "from tensorflow.keras import backend as K\n",
    "from tensorflow.keras.models import load_model"
   ]
  },
  {
   "cell_type": "code",
   "execution_count": null,
   "metadata": {},
   "outputs": [],
   "source": [
    "%load_ext autoreload\n",
    "%autoreload 2"
   ]
  },
  {
   "cell_type": "code",
   "execution_count": null,
   "metadata": {},
   "outputs": [],
   "source": [
    "K.clear_session()"
   ]
  },
  {
   "cell_type": "markdown",
   "metadata": {},
   "source": [
    "## Data Preparation"
   ]
  },
  {
   "cell_type": "code",
   "execution_count": null,
   "metadata": {},
   "outputs": [],
   "source": [
    "filepath1 = './images'\n",
    "filepath2 = './labels_old'\n",
    "\n",
    "size = 256\n",
    "#List of all jps and tif files\n",
    "ipath = ((utils.get_all_images(filepath1, 'jpg')))\n",
    "cpath = ((utils.get_all_images(filepath2, 'tif')))\n",
    "\n",
    "assert len(ipath) == len(cpath)\n",
    "\n",
    "ipath_train, ipath_val, cpath_train, cpath_val = train_test_split(ipath,cpath, train_size = 0.6, random_state=64, shuffle = True)\n",
    "ipath_dev, ipath_test, cpath_dev, cpath_test = train_test_split(ipath_val,cpath_val, train_size = 0.5, random_state=128, shuffle = True)"
   ]
  },
  {
   "cell_type": "code",
   "execution_count": null,
   "metadata": {},
   "outputs": [],
   "source": [
    "img_id_train,tile_id_train,y_coord_train,x_coord_train = train.fetch_tiles_info(ipath_train)\n",
    "img_id_train,tile_id_train,y_coord_train,x_coord_train = utils.shuffle_list(img_id_train,tile_id_train,y_coord_train,x_coord_train)\n",
    "\n",
    "img_id_dev,tile_id_dev,y_coord_dev,x_coord_dev = train.fetch_tiles_info(ipath_dev)\n",
    "img_id_dev,tile_id_dev,y_coord_dev,x_coord_dev = utils.shuffle_list(img_id_dev,tile_id_dev,y_coord_dev,x_coord_dev)\n",
    "\n",
    "img_id_test,tile_id_test,y_coord_test,x_coord_test = train.fetch_tiles_info(ipath_test)\n",
    "img_id_test,tile_id_test,y_coord_test,x_coord_test = utils.shuffle_list(img_id_test,tile_id_test,y_coord_test,x_coord_test)"
   ]
  },
  {
   "cell_type": "markdown",
   "metadata": {},
   "source": [
    "## Train Model"
   ]
  },
  {
   "cell_type": "code",
   "execution_count": null,
   "metadata": {},
   "outputs": [],
   "source": [
    "batch = 8\n",
    "epoch = 10\n",
    "train_generator = train.image_generator(ipath_train,cpath_train,img_id_train,tile_id_train,y_coord_train,x_coord_train, batch)\n",
    "val_generator = train.image_generator(ipath_dev,cpath_dev,img_id_dev,tile_id_dev,y_coord_dev,x_coord_dev, 1)\n",
    "steps_train = len(y_coord_train)//batch\n",
    "steps_val = (len(y_coord_dev))\n",
    "seed = 23"
   ]
  },
  {
   "cell_type": "code",
   "execution_count": null,
   "metadata": {},
   "outputs": [],
   "source": [
    "train.training(train_generator,val_generator,steps_train,steps_val,epoch,size,seed)"
   ]
  },
  {
   "cell_type": "markdown",
   "metadata": {},
   "source": [
    "## Evaluate"
   ]
  },
  {
   "cell_type": "code",
   "execution_count": null,
   "metadata": {},
   "outputs": [],
   "source": [
    "K.clear_session()\n",
    "\n",
    "model = load_model('./model_1.h5', custom_objects={'dice_loss': utils.dice_loss,'iou': utils.iou, 'dice': utils.dice})\n",
    "\n",
    "print('Metrics: ', model.metrics_names)  \n",
    "l,i,d = model.evaluate(train_generator, verbose=1, sample_weight=None, steps=len(x_coord_train)//4)\n",
    "print('train: ',l,i,d)\n",
    "\n",
    "l,i,d = model.evaluate(val_generator, verbose=1, sample_weight=None, steps=len(x_coord_dev))\n",
    "print('val: ',l,i,d)\n",
    "\n",
    "l,i,d = model.evaluate(train.dev_test_generator(ipath_test,cpath_test,img_id_test,tile_id_test,y_coord_test,x_coord_test, 1), batch_size = 1, verbose=1, sample_weight=None, steps=len(x_coord_test))\n",
    "print('test: ',l,i,d)\n",
    "\n",
    "   \n",
    "K.clear_session()\n",
    "del model \n"
   ]
  },
  {
   "cell_type": "markdown",
   "metadata": {},
   "source": [
    "## Predict"
   ]
  },
  {
   "cell_type": "code",
   "execution_count": null,
   "metadata": {},
   "outputs": [],
   "source": [
    "folder = \"./images\"\n",
    "mpath = \"./model_1.h5\"\n",
    "flist = utils.get_all_images(folder, \"jpg\")\n",
    "predict.predict_all_images(flist,mpath,4)"
   ]
  },
  {
   "cell_type": "code",
   "execution_count": null,
   "metadata": {},
   "outputs": [],
   "source": []
  }
 ],
 "metadata": {
  "kernelspec": {
   "display_name": "Python 3",
   "language": "python",
   "name": "python3"
  },
  "language_info": {
   "codemirror_mode": {
    "name": "ipython",
    "version": 3
   },
   "file_extension": ".py",
   "mimetype": "text/x-python",
   "name": "python",
   "nbconvert_exporter": "python",
   "pygments_lexer": "ipython3",
   "version": "3.6.7"
  }
 },
 "nbformat": 4,
 "nbformat_minor": 2
}
